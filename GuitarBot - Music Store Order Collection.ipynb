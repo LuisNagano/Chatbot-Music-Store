{
 "cells": [
  {
   "cell_type": "markdown",
   "id": "36fee320-f88b-41f1-ad36-e86b125aba9a",
   "metadata": {},
   "source": [
    "# GuitarBot - Music Store Order Collection\n",
    "\n",
    "This project contains the code to set up an automated service for collecting orders for a music store using OpenAI's GPT-3.5-turbo. The service, named GuitarBot, interacts with customers to take orders for guitars and related accessories."
   ]
  },
  {
   "cell_type": "markdown",
   "id": "089b8606-99f5-4e67-a99d-365a016f842f",
   "metadata": {
    "tags": []
   },
   "source": [
    "### 1. Setting Up the Environment for OpenAI API\n",
    "\n",
    "Configure the environment to use the OpenAI API by importing necessary libraries and loading the API key from a `.env` file."
   ]
  },
  {
   "cell_type": "code",
   "execution_count": null,
   "id": "5518e1db-d7e7-426c-8c31-31577b877d7c",
   "metadata": {},
   "outputs": [],
   "source": [
    "import os\n",
    "import openai\n",
    "from dotenv import load_dotenv, find_dotenv\n",
    "\n",
    "_ = load_dotenv(find_dotenv())  # Read local .env file\n",
    "\n",
    "openai.api_key = os.getenv('OPENAI_API_KEY')"
   ]
  },
  {
   "cell_type": "markdown",
   "id": "409eeb1f-e824-4e8d-bff8-0eed77965f1f",
   "metadata": {},
   "source": [
    "### 2. Defining Functions to Interact with OpenAI's API\n",
    "\n",
    "Define two functions, `get_completion` and `get_completion_from_messages`, which facilitate interaction with the OpenAI API to generate responses based on user prompts.\n"
   ]
  },
  {
   "cell_type": "code",
   "execution_count": null,
   "id": "818c2439-6045-412b-af5f-cdba9ccaeea0",
   "metadata": {},
   "outputs": [],
   "source": [
    "def get_completion(prompt, model=\"gpt-3.5-turbo\"):\n",
    "    messages = [{\"role\": \"user\", \"content\": prompt}]\n",
    "    response = openai.ChatCompletion.create(\n",
    "        model=model,\n",
    "        messages=messages,\n",
    "        temperature=0,  # this is the degree of randomness of the model's output\n",
    "    )\n",
    "    return response.choices[0].message[\"content\"]\n",
    "\n",
    "def get_completion_from_messages(messages, model=\"gpt-3.5-turbo\", temperature=0):\n",
    "    response = openai.ChatCompletion.create(\n",
    "        model=model,\n",
    "        messages=messages,\n",
    "        temperature=temperature,  # this is the degree of randomness of the model's output\n",
    "    )\n",
    "    # print(str(response.choices[0].message))\n",
    "    return response.choices[0].message[\"content\"]"
   ]
  },
  {
   "cell_type": "markdown",
   "id": "7dd5f1a0-0ca9-40db-901e-22195611504f",
   "metadata": {},
   "source": [
    "### 3. Generating and Printing a Response\n",
    "\n",
    "Demonstrate how to use the `get_completion_from_messages` function to generate a response from the OpenAI API and print it."
   ]
  },
  {
   "cell_type": "code",
   "execution_count": null,
   "id": "b0a92c26-ff66-4263-acf0-6e956330b6d8",
   "metadata": {},
   "outputs": [],
   "source": [
    "response = get_completion_from_messages(messages, temperature=1)\n",
    "print(response)"
   ]
  },
  {
   "cell_type": "markdown",
   "id": "741a9ff2-60d3-4c38-bc7d-e147c73df522",
   "metadata": {
    "tags": []
   },
   "source": [
    "### 4. Defining the `collect_messages` Function\n",
    "\n",
    "Handle user input, generates a response using the OpenAI API, and updates the display with the conversation history."
   ]
  },
  {
   "cell_type": "code",
   "execution_count": null,
   "id": "81696b44-a084-4c6e-baeb-42e191b99967",
   "metadata": {},
   "outputs": [],
   "source": [
    "def collect_messages(_):\n",
    "    prompt = inp.value_input\n",
    "    inp.value = ''\n",
    "    context.append({'role': 'user', 'content': f\"{prompt}\"})\n",
    "    response = get_completion_from_messages(context)\n",
    "    context.append({'role': 'assistant', 'content': f\"{response}\"})\n",
    "    panels.append(\n",
    "        pn.Row('User:', pn.pane.Markdown(prompt, width=600)))\n",
    "    panels.append(\n",
    "        pn.Row('Assistant:', pn.pane.Markdown(response, width=600, style={'background-color': '#F6F6F6'})))\n",
    "    return pn.Column(*panels)"
   ]
  },
  {
   "cell_type": "markdown",
   "id": "50650536-0014-4067-99ea-cdf85fb1e423",
   "metadata": {},
   "source": [
    "### 5. Setting Up the GUI for GuitarBot\n",
    "\n",
    "Set up the graphical user interface (GUI) using the Panel library. This includes initializing the interface, defining the conversation context, and creating interactive widgets for user input and responses."
   ]
  },
  {
   "cell_type": "code",
   "execution_count": null,
   "id": "b78d4235-b12e-46d9-a3b6-29ff54001bd2",
   "metadata": {},
   "outputs": [],
   "source": [
    "import panel as pn  # GUI\n",
    "pn.extension()\n",
    "\n",
    "panels = []  # collect display\n",
    "context = [{'role': 'system', 'content': \"\"\"\n",
    "You are GuitarBot, an automated service to collect orders for a music store. \\\n",
    "You first greet the customer, then collect the order, \\\n",
    "and then ask if it's for pickup or delivery. \\\n",
    "You wait to collect the entire order, then summarize it and check one last \\\n",
    "time if the customer wants to add anything else. \\\n",
    "If it's for delivery, you ask for an address. \\\n",
    "Finally, you collect the payment. \\\n",
    "Make sure to clarify all options, extras, and models to uniquely \\\n",
    "identify the item from the catalog. \\\n",
    "You respond in a short, very conversational friendly style. \\\n",
    "The catalog includes \\\n",
    "Fender Stratocaster guitar 1200.00, 1000.00, 800.00 \\\n",
    "Gibson Les Paul guitar 1500.00, 1300.00, 1100.00 \\\n",
    "Ibanez RG guitar 900.00, 750.00, 600.00 \\\n",
    "Suhr Classic guitar 2000.00, 1800.00, 1600.00 \\\n",
    "PRS Custom 24 guitar 2500.00, 2300.00, 2100.00 \\\n",
    "Fender amplifier 500.00, 300.00 \\\n",
    "Marshall amplifier 600.00, 400.00 \\\n",
    "Picks (pack of 12) 5.00 \\\n",
    "Capo 10.00 \\\n",
    "Guitar cable 15.00 \\\n",
    "Guitar strap 20.00 \\\n",
    "\"\"\"}]  # accumulate messages\n",
    "\n",
    "inp = pn.widgets.TextInput(value=\"Hi\", placeholder='Enter text here…')\n",
    "button_conversation = pn.widgets.Button(name=\"Chat!\")\n",
    "interactive_conversation = pn.bind(collect_messages, button_conversation)\n",
    "\n",
    "dashboard = pn.Column(\n",
    "    inp,\n",
    "    pn.Row(button_conversation),\n",
    "    pn.panel(interactive_conversation, loading_indicator=True, height=300),\n",
    ")\n",
    "dashboard\n"
   ]
  },
  {
   "cell_type": "markdown",
   "id": "4129ea48-da64-4734-82ad-17474ab735de",
   "metadata": {},
   "source": [
    "### 6. Creating a JSON Summary of the Order\n",
    "\n",
    "Create a message to request a JSON summary of the previous musical instrument order and print the response."
   ]
  },
  {
   "cell_type": "code",
   "execution_count": null,
   "id": "3cc95e42-ff4f-403d-934a-ab110f90209a",
   "metadata": {},
   "outputs": [],
   "source": [
    "messages = context.copy()\n",
    "messages.append(\n",
    "    {'role': 'system', 'content': 'create a JSON summary of the previous musical instrument order. Itemize the price for each item.\\\n",
    "    The fields should be 1) guitar, include model and price 2) list of accessories and prices 3) total price'},\n",
    ")\n",
    "\n",
    "response = get_completion_from_messages(messages, temperature=0)\n",
    "print(response)"
   ]
  }
 ],
 "metadata": {
  "kernelspec": {
   "display_name": "Python 3 (ipykernel)",
   "language": "python",
   "name": "python3"
  },
  "language_info": {
   "codemirror_mode": {
    "name": "ipython",
    "version": 3
   },
   "file_extension": ".py",
   "mimetype": "text/x-python",
   "name": "python",
   "nbconvert_exporter": "python",
   "pygments_lexer": "ipython3",
   "version": "3.11.5"
  }
 },
 "nbformat": 4,
 "nbformat_minor": 5
}
